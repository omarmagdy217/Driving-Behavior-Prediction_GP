{
 "cells": [
  {
   "cell_type": "code",
   "execution_count": 1,
   "metadata": {},
   "outputs": [],
   "source": [
    "# Import statements\n",
    "import pandas as pd\n",
    "import numpy as np"
   ]
  },
  {
   "cell_type": "code",
   "execution_count": 2,
   "metadata": {},
   "outputs": [],
   "source": [
    "# Import 'matplotlib.pyplot'\n",
    "import matplotlib.pyplot as plt\n",
    "\n",
    "def distribution(data, value, transformed = False):\n",
    "    \"\"\"\n",
    "    Visualization code for displaying skewed distributions of features\n",
    "    \"\"\"\n",
    "    \n",
    "    # Create figure\n",
    "    fig = plt.figure(figsize = (11,5));\n",
    "\n",
    "    # Skewed feature plotting\n",
    "    for i, feature in enumerate([value]):\n",
    "        ax = fig.add_subplot(1, 1, i+1)\n",
    "        ax.hist(data[feature], bins = 25, color = '#00A0A0')\n",
    "        ax.set_title(\"'%s' Feature Distribution\"%(feature), fontsize = 14)\n",
    "        ax.set_xlabel(\"Value\")\n",
    "        ax.set_ylabel(\"Number of Records\")\n",
    "        ax.set_ylim((0, 500))\n",
    "        ax.set_yticks([0, 100, 200, 300, 400, 500])\n",
    "\n",
    "    # Plot aesthetics\n",
    "    if transformed:\n",
    "        fig.suptitle(\"Log-transformed Distributions of Continuous EEG Data Features\", \\\n",
    "            fontsize = 16, y = 1.03)\n",
    "    else:\n",
    "        fig.suptitle(\"Skewed Distributions of Continuous EEG Data Features\", \\\n",
    "            fontsize = 16, y = 1.03)\n",
    "\n",
    "    fig.tight_layout()"
   ]
  },
  {
   "cell_type": "code",
   "execution_count": 3,
   "metadata": {},
   "outputs": [],
   "source": [
    "# Import 'accuracy_score'\n",
    "from sklearn.metrics import accuracy_score\n",
    "\n",
    "def performance_metric(y_true, y_predict):\n",
    "    \"\"\" Calculates and returns the performance score between \n",
    "        true and predicted values based on the metric chosen. \"\"\"\n",
    "    \n",
    "    # Calculate the performance score between 'y_true' and 'y_predict'\n",
    "    score = accuracy_score(y_true, y_predict)\n",
    "    \n",
    "    # Return the score\n",
    "    return score"
   ]
  },
  {
   "cell_type": "code",
   "execution_count": 4,
   "metadata": {},
   "outputs": [],
   "source": [
    "# Import 'make_scorer', 'LDA', 'GridSearchCV', and 'ShuffleSplit'\n",
    "from sklearn.metrics import make_scorer\n",
    "from sklearn.discriminant_analysis import LinearDiscriminantAnalysis as LDA\n",
    "from sklearn.model_selection import GridSearchCV\n",
    "from sklearn.model_selection import ShuffleSplit\n",
    "\n",
    "def fit_model(X, y):\n",
    "    \"\"\" Performs grid search over the 'max_depth' parameter for a \n",
    "        decision tree regressor trained on the input data [X, y]. \"\"\"\n",
    "    \n",
    "    # Create cross-validation sets from the training data\n",
    "    cv_sets = ShuffleSplit(n_splits = 10, test_size = 0.20, random_state = 0)\n",
    "\n",
    "    # Create a linear discriminant analysis object\n",
    "    clf = LDA()\n",
    "\n",
    "    # Create a dictionary for the parameter 'max_depth' with a range from 1 to 10\n",
    "    params = {'solver':['svd', 'lsqr', 'eigen'], 'tol':[0.0001, 0.001, 0.01]}\n",
    "\n",
    "    # Transform 'performance_metric' into a scoring function using 'make_scorer' \n",
    "    scoring_fnc = make_scorer(performance_metric)\n",
    "\n",
    "    # Create the grid search cv object --> GridSearchCV()\n",
    "    # Make sure to include the right parameters in the object:\n",
    "    # (estimator, param_grid, scoring, cv) which have values 'clf', 'params', 'scoring_fnc', and 'cv_sets' respectively.\n",
    "    grid = GridSearchCV(clf, params, scoring=scoring_fnc, cv=cv_sets)\n",
    "\n",
    "    # Fit the grid search object to the data to compute the optimal model\n",
    "    grid = grid.fit(X, y)\n",
    "\n",
    "    # Return the optimal model after fitting the data\n",
    "    return grid.best_estimator_"
   ]
  },
  {
   "cell_type": "code",
   "execution_count": 5,
   "metadata": {},
   "outputs": [
    {
     "name": "stdout",
     "output_type": "stream",
     "text": [
      "The shape of the data: (306, 6)\n"
     ]
    },
    {
     "data": {
      "text/html": [
       "<div>\n",
       "<style scoped>\n",
       "    .dataframe tbody tr th:only-of-type {\n",
       "        vertical-align: middle;\n",
       "    }\n",
       "\n",
       "    .dataframe tbody tr th {\n",
       "        vertical-align: top;\n",
       "    }\n",
       "\n",
       "    .dataframe thead th {\n",
       "        text-align: right;\n",
       "    }\n",
       "</style>\n",
       "<table border=\"1\" class=\"dataframe\">\n",
       "  <thead>\n",
       "    <tr style=\"text-align: right;\">\n",
       "      <th></th>\n",
       "      <th>delta</th>\n",
       "      <th>theta</th>\n",
       "      <th>alpha</th>\n",
       "      <th>beta</th>\n",
       "      <th>gamma</th>\n",
       "      <th>state</th>\n",
       "    </tr>\n",
       "  </thead>\n",
       "  <tbody>\n",
       "    <tr>\n",
       "      <th>0</th>\n",
       "      <td>1237.935339</td>\n",
       "      <td>26.654825</td>\n",
       "      <td>4.319927</td>\n",
       "      <td>5.587181</td>\n",
       "      <td>2.346162</td>\n",
       "      <td>1</td>\n",
       "    </tr>\n",
       "    <tr>\n",
       "      <th>1</th>\n",
       "      <td>2706.809361</td>\n",
       "      <td>16.752475</td>\n",
       "      <td>5.756114</td>\n",
       "      <td>6.089437</td>\n",
       "      <td>2.769464</td>\n",
       "      <td>1</td>\n",
       "    </tr>\n",
       "    <tr>\n",
       "      <th>2</th>\n",
       "      <td>12299.778782</td>\n",
       "      <td>216.296640</td>\n",
       "      <td>21.946405</td>\n",
       "      <td>10.488320</td>\n",
       "      <td>3.565331</td>\n",
       "      <td>1</td>\n",
       "    </tr>\n",
       "    <tr>\n",
       "      <th>3</th>\n",
       "      <td>6337.902264</td>\n",
       "      <td>12.716597</td>\n",
       "      <td>4.337743</td>\n",
       "      <td>5.991419</td>\n",
       "      <td>3.326028</td>\n",
       "      <td>2</td>\n",
       "    </tr>\n",
       "    <tr>\n",
       "      <th>4</th>\n",
       "      <td>2210.281559</td>\n",
       "      <td>26.396301</td>\n",
       "      <td>4.365897</td>\n",
       "      <td>6.468047</td>\n",
       "      <td>3.225884</td>\n",
       "      <td>2</td>\n",
       "    </tr>\n",
       "    <tr>\n",
       "      <th>5</th>\n",
       "      <td>6132.013923</td>\n",
       "      <td>25.131828</td>\n",
       "      <td>5.525610</td>\n",
       "      <td>6.923929</td>\n",
       "      <td>4.370456</td>\n",
       "      <td>2</td>\n",
       "    </tr>\n",
       "    <tr>\n",
       "      <th>6</th>\n",
       "      <td>2144.435248</td>\n",
       "      <td>10.448865</td>\n",
       "      <td>3.447408</td>\n",
       "      <td>4.930768</td>\n",
       "      <td>2.002210</td>\n",
       "      <td>3</td>\n",
       "    </tr>\n",
       "    <tr>\n",
       "      <th>7</th>\n",
       "      <td>1719.482344</td>\n",
       "      <td>11.885981</td>\n",
       "      <td>3.475816</td>\n",
       "      <td>5.203833</td>\n",
       "      <td>2.102311</td>\n",
       "      <td>3</td>\n",
       "    </tr>\n",
       "    <tr>\n",
       "      <th>8</th>\n",
       "      <td>41.705278</td>\n",
       "      <td>7.948842</td>\n",
       "      <td>3.042720</td>\n",
       "      <td>4.347130</td>\n",
       "      <td>1.852414</td>\n",
       "      <td>3</td>\n",
       "    </tr>\n",
       "  </tbody>\n",
       "</table>\n",
       "</div>"
      ],
      "text/plain": [
       "          delta       theta      alpha       beta     gamma  state\n",
       "0   1237.935339   26.654825   4.319927   5.587181  2.346162      1\n",
       "1   2706.809361   16.752475   5.756114   6.089437  2.769464      1\n",
       "2  12299.778782  216.296640  21.946405  10.488320  3.565331      1\n",
       "3   6337.902264   12.716597   4.337743   5.991419  3.326028      2\n",
       "4   2210.281559   26.396301   4.365897   6.468047  3.225884      2\n",
       "5   6132.013923   25.131828   5.525610   6.923929  4.370456      2\n",
       "6   2144.435248   10.448865   3.447408   4.930768  2.002210      3\n",
       "7   1719.482344   11.885981   3.475816   5.203833  2.102311      3\n",
       "8     41.705278    7.948842   3.042720   4.347130  1.852414      3"
      ]
     },
     "metadata": {},
     "output_type": "display_data"
    }
   ],
   "source": [
    "# Allows the use of display() for DataFrames\n",
    "from IPython.display import display\n",
    "\n",
    "# Read the data.\n",
    "raw_data = pd.read_csv('eeg_bands.csv')\n",
    "\n",
    "# Split the data into features and target label\n",
    "target_raw = raw_data['state']\n",
    "features_raw = raw_data.drop('state', axis = 1)\n",
    "\n",
    "# Print data shape. \n",
    "print(\"The shape of the data: {}\".format(raw_data.shape))\n",
    "\n",
    "# Success - Display the first nine records\n",
    "display(raw_data.head(n=9))"
   ]
  },
  {
   "cell_type": "code",
   "execution_count": 6,
   "metadata": {},
   "outputs": [
    {
     "data": {
      "image/png": "[encoded data removed]",
      "text/plain": [
       "<Figure size 792x360 with 1 Axes>"
      ]
     },
     "metadata": {
      "needs_background": "light"
     },
     "output_type": "display_data"
    }
   ],
   "source": [
    "# Visualize skewed continuous features of original data\n",
    "distribution(raw_data, 'delta')"
   ]
  },
  {
   "cell_type": "code",
   "execution_count": 7,
   "metadata": {},
   "outputs": [
    {
     "data": {
      "image/png": "[encoded data removed]",
      "text/plain": [
       "<Figure size 792x360 with 1 Axes>"
      ]
     },
     "metadata": {
      "needs_background": "light"
     },
     "output_type": "display_data"
    }
   ],
   "source": [
    "# Log-transform the skewed features\n",
    "features_log_transformed = features_raw.apply(lambda x: np.log(x + 1))\n",
    "\n",
    "# Visualize the new log distributions\n",
    "distribution(features_log_transformed, 'delta', transformed = True)"
   ]
  },
  {
   "cell_type": "code",
   "execution_count": 8,
   "metadata": {},
   "outputs": [],
   "source": [
    "# Import sklearn.preprocessing.StandardScaler\n",
    "from sklearn.preprocessing import MinMaxScaler\n",
    "\n",
    "# Initialize a scaler, then apply it to the features\n",
    "scaler = MinMaxScaler() # default=(0, 1)\n",
    "\n",
    "features_log_minmax_transform = scaler.fit_transform(features_log_transformed)"
   ]
  },
  {
   "cell_type": "code",
   "execution_count": 9,
   "metadata": {},
   "outputs": [
    {
     "name": "stdout",
     "output_type": "stream",
     "text": [
      "Training and testing split was successful.\n"
     ]
    }
   ],
   "source": [
    "# Import 'train_test_split'\n",
    "from sklearn.model_selection import train_test_split\n",
    "\n",
    "# Assign the features to the variable Bands, and the labels to the variable state. \n",
    "Bands = np.array(features_log_minmax_transform)\n",
    "state = np.array(target_raw)\n",
    "\n",
    "# Shuffle and split the data into training and testing subsets\n",
    "X_train, X_test, y_train, y_test = train_test_split(Bands, state, test_size=0.2, random_state=42)\n",
    "\n",
    "# Success\n",
    "print(\"Training and testing split was successful.\")"
   ]
  },
  {
   "cell_type": "code",
   "execution_count": 10,
   "metadata": {},
   "outputs": [
    {
     "name": "stdout",
     "output_type": "stream",
     "text": [
      "Parameter 'solver' is svd for the optimal model.\n",
      "Parameter 'tol' is 0.0001 for the optimal model.\n",
      "\n",
      "Predicted mental state for test 1's bands: Focused\n",
      "Predicted mental state for test 2's bands: Focused\n",
      "Predicted mental state for test 3's bands: De-Focused\n",
      "Predicted mental state for test 4's bands: Drowsy\n",
      "Predicted mental state for test 5's bands: Drowsy\n",
      "Predicted mental state for test 6's bands: Focused\n",
      "Predicted mental state for test 7's bands: Focused\n",
      "Predicted mental state for test 8's bands: De-Focused\n",
      "Predicted mental state for test 9's bands: Focused\n",
      "Predicted mental state for test 10's bands: Focused\n",
      "Predicted mental state for test 11's bands: Focused\n",
      "Predicted mental state for test 12's bands: Focused\n",
      "Predicted mental state for test 13's bands: Focused\n",
      "Predicted mental state for test 14's bands: Drowsy\n",
      "Predicted mental state for test 15's bands: Focused\n",
      "Predicted mental state for test 16's bands: Focused\n",
      "Predicted mental state for test 17's bands: De-Focused\n",
      "Predicted mental state for test 18's bands: Drowsy\n",
      "Predicted mental state for test 19's bands: Focused\n",
      "Predicted mental state for test 20's bands: Drowsy\n",
      "Predicted mental state for test 21's bands: De-Focused\n",
      "Predicted mental state for test 22's bands: Focused\n",
      "Predicted mental state for test 23's bands: Focused\n",
      "Predicted mental state for test 24's bands: Focused\n",
      "Predicted mental state for test 25's bands: Drowsy\n",
      "Predicted mental state for test 26's bands: De-Focused\n",
      "Predicted mental state for test 27's bands: Focused\n",
      "Predicted mental state for test 28's bands: Focused\n",
      "Predicted mental state for test 29's bands: De-Focused\n",
      "Predicted mental state for test 30's bands: Focused\n",
      "Predicted mental state for test 31's bands: Focused\n",
      "Predicted mental state for test 32's bands: De-Focused\n",
      "Predicted mental state for test 33's bands: De-Focused\n",
      "Predicted mental state for test 34's bands: Focused\n",
      "Predicted mental state for test 35's bands: Focused\n",
      "Predicted mental state for test 36's bands: De-Focused\n",
      "Predicted mental state for test 37's bands: De-Focused\n",
      "Predicted mental state for test 38's bands: Focused\n",
      "Predicted mental state for test 39's bands: Focused\n",
      "Predicted mental state for test 40's bands: De-Focused\n",
      "Predicted mental state for test 41's bands: Focused\n",
      "Predicted mental state for test 42's bands: De-Focused\n",
      "Predicted mental state for test 43's bands: Drowsy\n",
      "Predicted mental state for test 44's bands: De-Focused\n",
      "Predicted mental state for test 45's bands: Focused\n",
      "Predicted mental state for test 46's bands: Drowsy\n",
      "Predicted mental state for test 47's bands: De-Focused\n",
      "Predicted mental state for test 48's bands: Focused\n",
      "Predicted mental state for test 49's bands: Drowsy\n",
      "Predicted mental state for test 50's bands: De-Focused\n",
      "Predicted mental state for test 51's bands: De-Focused\n",
      "Predicted mental state for test 52's bands: Drowsy\n",
      "Predicted mental state for test 53's bands: Focused\n",
      "Predicted mental state for test 54's bands: Focused\n",
      "Predicted mental state for test 55's bands: Drowsy\n",
      "Predicted mental state for test 56's bands: De-Focused\n",
      "Predicted mental state for test 57's bands: Drowsy\n",
      "Predicted mental state for test 58's bands: De-Focused\n",
      "Predicted mental state for test 59's bands: De-Focused\n",
      "Predicted mental state for test 60's bands: Drowsy\n",
      "Predicted mental state for test 61's bands: De-Focused\n",
      "Predicted mental state for test 62's bands: Focused\n"
     ]
    }
   ],
   "source": [
    "# Fit the training data to the model using grid search\n",
    "model = fit_model(X_train, y_train)\n",
    "\n",
    "# Produce the value for 'solver' and 'tol'\n",
    "print(\"Parameter 'solver' is {} for the optimal model.\".format(model.get_params()['solver']))\n",
    "print(\"Parameter 'tol' is {} for the optimal model.\\n\".format(model.get_params()['tol']))\n",
    "\n",
    "# Make predictions. Store them in the variable y_pred.\n",
    "y_pred = model.predict(X_test)\n",
    "\n",
    "# Label states class.\n",
    "states_class = ['Focused', 'De-Focused', 'Drowsy']\n",
    "\n",
    "# Show predictions\n",
    "for i, state in enumerate(y_pred):\n",
    "    print(\"Predicted mental state for test {}'s bands: {}\".format(i+1, states_class[state-1]))"
   ]
  },
  {
   "cell_type": "code",
   "execution_count": 11,
   "metadata": {},
   "outputs": [
    {
     "name": "stdout",
     "output_type": "stream",
     "text": [
      "F1 score: 0.5483870967741935\n"
     ]
    }
   ],
   "source": [
    "# Import 'f1_score'\n",
    "from sklearn.metrics import f1_score\n",
    "\n",
    "# Calculate the f1 score and assign it to the variable score.\n",
    "score = f1_score(y_test, y_pred, average='micro')\n",
    "\n",
    "# Print score\n",
    "print(\"F1 score:\", score) "
   ]
  },
  {
   "cell_type": "code",
   "execution_count": null,
   "metadata": {},
   "outputs": [],
   "source": []
  }
 ],
 "metadata": {
  "kernelspec": {
   "display_name": "Python 3",
   "language": "python",
   "name": "python3"
  },
  "language_info": {
   "codemirror_mode": {
    "name": "ipython",
    "version": 3
   },
   "file_extension": ".py",
   "mimetype": "text/x-python",
   "name": "python",
   "nbconvert_exporter": "python",
   "pygments_lexer": "ipython3",
   "version": "3.7.3"
  }
 },
 "nbformat": 4,
 "nbformat_minor": 2
}
